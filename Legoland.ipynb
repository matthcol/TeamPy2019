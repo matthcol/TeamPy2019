{
 "cells": [
  {
   "cell_type": "code",
   "execution_count": 1,
   "metadata": {},
   "outputs": [],
   "source": [
    "class Boite:\n",
    "    \n",
    "    def __init__(self, numero, nom, nombrePiece, annee = None):\n",
    "        self.numero = numero\n",
    "        self.nom = nom\n",
    "        self.nombrePiece = nombrePiece\n",
    "        self.annee = annee "
   ]
  },
  {
   "cell_type": "code",
   "execution_count": 2,
   "metadata": {},
   "outputs": [
    {
     "data": {
      "text/plain": [
       "[<__main__.Boite at 0x174f8f802b0>,\n",
       " <__main__.Boite at 0x174f8f802e8>,\n",
       " <__main__.Boite at 0x174f8f80358>]"
      ]
     },
     "execution_count": 2,
     "metadata": {},
     "output_type": "execute_result"
    }
   ],
   "source": [
    "b1 = Boite(71043, \"Le château de Poudlard\", 6020, 2018)\n",
    "b2 = Boite(75810, \"La maison dans le monde à l'envers\", 2287, 2019)\n",
    "b3 = Boite(70839, \"Le Rexcelsior\", 1826)\n",
    "listeBoites = [ b1, b2, b3 ]\n",
    "listeBoites"
   ]
  },
  {
   "cell_type": "code",
   "execution_count": 3,
   "metadata": {},
   "outputs": [
    {
     "data": {
      "text/plain": [
       "\"La maison dans le monde à l'envers\""
      ]
     },
     "execution_count": 3,
     "metadata": {},
     "output_type": "execute_result"
    }
   ],
   "source": [
    "b2.nom"
   ]
  },
  {
   "cell_type": "code",
   "execution_count": 4,
   "metadata": {},
   "outputs": [],
   "source": [
    "b3.annee"
   ]
  }
 ],
 "metadata": {
  "kernelspec": {
   "display_name": "Python 3",
   "language": "python",
   "name": "python3"
  },
  "language_info": {
   "codemirror_mode": {
    "name": "ipython",
    "version": 3
   },
   "file_extension": ".py",
   "mimetype": "text/x-python",
   "name": "python",
   "nbconvert_exporter": "python",
   "pygments_lexer": "ipython3",
   "version": "3.7.1"
  }
 },
 "nbformat": 4,
 "nbformat_minor": 2
}
