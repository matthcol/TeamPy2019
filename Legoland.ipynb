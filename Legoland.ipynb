{
 "cells": [
  {
   "cell_type": "markdown",
   "metadata": {},
   "source": [
    "# Première(s) classe(s) en python\n",
    "## Boîte de Lego"
   ]
  },
  {
   "cell_type": "code",
   "execution_count": 1,
   "metadata": {},
   "outputs": [],
   "source": [
    "# librairie(s) utilisées par ce notebook\n",
    "from datetime import date"
   ]
  },
  {
   "cell_type": "code",
   "execution_count": 2,
   "metadata": {},
   "outputs": [],
   "source": [
    "class Boite:\n",
    "    \"\"\"classe représentant une boîte de Lego\"\"\"\n",
    "    \n",
    "    # constructeur\n",
    "    def __init__(self, numero, nom, nombrePiece, annee = None):\n",
    "        self.numero = numero\n",
    "        self.nom = nom\n",
    "        self.nombrePiece = nombrePiece\n",
    "        self.annee = annee \n",
    "        \n",
    "    \n",
    "    def __repr__(self):\n",
    "        return f'BoiteLego<{self.numero} - {self.nom} ({self.nombrePiece}p)>'\n",
    "    \n",
    "    # si on souhaite conversion en str différente de la représentation\n",
    "    def __str__(self):\n",
    "        return f'{self.numero} - {self.nom} ({self.nombrePiece}p)'\n",
    "    \n",
    "    # redéfinition de l'égalité basée sur les numéros de boîtes\n",
    "    # ( opérateurs == et != )\n",
    "    def __eq__(self, other):\n",
    "        if not isinstance(other, Boite):\n",
    "            return NotImplemented\n",
    "        else:\n",
    "            return self.numero == other.numero\n",
    "    \n",
    "    def estNouvelle(self):\n",
    "        \"\"\"renvoie le status nouveauté de la boîte de Lego:\n",
    "        - True si l'année de la boîte est l'année courante\n",
    "        - False sinon\"\"\"\n",
    "        aujourdhui = date.today()\n",
    "        return self.annee == aujourdhui.year\n",
    "        "
   ]
  },
  {
   "cell_type": "code",
   "execution_count": 3,
   "metadata": {},
   "outputs": [
    {
     "data": {
      "text/plain": [
       "[BoiteLego<71043 - Le château de Poudlard (6020p)>,\n",
       " BoiteLego<75810 - La maison dans le monde à l'envers (2287p)>,\n",
       " BoiteLego<70839 - Le Rexcelsior (1826p)>]"
      ]
     },
     "execution_count": 3,
     "metadata": {},
     "output_type": "execute_result"
    }
   ],
   "source": [
    "# constructions de 3 instances de la classe Boite\n",
    "b1 = Boite(71043, \"Le château de Poudlard\", 6020, 2018)\n",
    "b2 = Boite(75810, \"La maison dans le monde à l'envers\", 2287, 2019)\n",
    "b3 = Boite(70839, \"Le Rexcelsior\", 1826)\n",
    "# 1 clone de b1\n",
    "b4 = Boite(71043, \"Le château de Poudlard\", 6020, 2018)\n",
    "# 1 objet partagé par 2 référence\n",
    "b5 = b1\n",
    "# une liste regroupant les 3 1ères boîtes\n",
    "listeBoites = [ b1, b2, b3 ]\n",
    "listeBoites"
   ]
  },
  {
   "cell_type": "markdown",
   "metadata": {},
   "source": [
    "## Quelques tests:"
   ]
  },
  {
   "cell_type": "markdown",
   "metadata": {},
   "source": [
    "### 0. Pour commencer"
   ]
  },
  {
   "cell_type": "code",
   "execution_count": 4,
   "metadata": {},
   "outputs": [
    {
     "data": {
      "text/plain": [
       "__main__.Boite"
      ]
     },
     "execution_count": 4,
     "metadata": {},
     "output_type": "execute_result"
    }
   ],
   "source": [
    "type(b1)"
   ]
  },
  {
   "cell_type": "markdown",
   "metadata": {},
   "source": [
    "### 1. Utilisation des attributs"
   ]
  },
  {
   "cell_type": "markdown",
   "metadata": {},
   "source": [
    "#### 1.1 Lectures "
   ]
  },
  {
   "cell_type": "code",
   "execution_count": 5,
   "metadata": {},
   "outputs": [
    {
     "data": {
      "text/plain": [
       "'Le château de Poudlard'"
      ]
     },
     "execution_count": 5,
     "metadata": {},
     "output_type": "execute_result"
    }
   ],
   "source": [
    "b1.nom"
   ]
  },
  {
   "cell_type": "code",
   "execution_count": 6,
   "metadata": {},
   "outputs": [
    {
     "name": "stdout",
     "output_type": "stream",
     "text": [
      "Le château de Poudlard\n",
      "La maison dans le monde à l'envers\n",
      "Le Rexcelsior\n"
     ]
    }
   ],
   "source": [
    "for b in listeBoites:\n",
    "    print(b.nom)"
   ]
  },
  {
   "cell_type": "code",
   "execution_count": 7,
   "metadata": {
    "scrolled": true
   },
   "outputs": [
    {
     "name": "stdout",
     "output_type": "stream",
     "text": [
      "71043 Le château de Poudlard 6020 pièces\n",
      "75810 La maison dans le monde à l'envers 2287 pièces\n",
      "70839 Le Rexcelsior 1826 pièces\n"
     ]
    }
   ],
   "source": [
    "for b in listeBoites:\n",
    "    print(b.numero, b.nom, b.nombrePiece, 'pièces')"
   ]
  },
  {
   "cell_type": "code",
   "execution_count": 8,
   "metadata": {},
   "outputs": [
    {
     "data": {
      "text/plain": [
       "['Le château de Poudlard',\n",
       " \"La maison dans le monde à l'envers\",\n",
       " 'Le Rexcelsior']"
      ]
     },
     "execution_count": 8,
     "metadata": {},
     "output_type": "execute_result"
    }
   ],
   "source": [
    "noms = [ b.nom for b in listeBoites ] \n",
    "noms"
   ]
  },
  {
   "cell_type": "code",
   "execution_count": 9,
   "metadata": {},
   "outputs": [
    {
     "data": {
      "text/plain": [
       "[6020, 2287, 1826]"
      ]
     },
     "execution_count": 9,
     "metadata": {},
     "output_type": "execute_result"
    }
   ],
   "source": [
    "nombresPiece = [b.nombrePiece for b in listeBoites]\n",
    "nombresPiece"
   ]
  },
  {
   "cell_type": "code",
   "execution_count": 10,
   "metadata": {},
   "outputs": [
    {
     "data": {
      "text/plain": [
       "10133"
      ]
     },
     "execution_count": 10,
     "metadata": {},
     "output_type": "execute_result"
    }
   ],
   "source": [
    "# nombre de pieces total de toutes le boites\n",
    "totalNombrePiece =  sum(b.nombrePiece for b in listeBoites)\n",
    "totalNombrePiece\n"
   ]
  },
  {
   "cell_type": "markdown",
   "metadata": {},
   "source": [
    "#### 1.2 Modifications"
   ]
  },
  {
   "cell_type": "code",
   "execution_count": 11,
   "metadata": {},
   "outputs": [
    {
     "data": {
      "text/plain": [
       "(2019, 2019)"
      ]
     },
     "execution_count": 11,
     "metadata": {},
     "output_type": "execute_result"
    }
   ],
   "source": [
    "# en modifiant un objet via une référence, \n",
    "# toutes les références sur cet objet sont impactées\n",
    "b3.annee = 2019\n",
    "b3.annee, listeBoites[2].annee"
   ]
  },
  {
   "cell_type": "markdown",
   "metadata": {},
   "source": [
    "### 2. Conversion object en texte (repr, \\_\\_repr__, str, \\_\\_str__)"
   ]
  },
  {
   "cell_type": "code",
   "execution_count": 12,
   "metadata": {},
   "outputs": [
    {
     "data": {
      "text/plain": [
       "BoiteLego<71043 - Le château de Poudlard (6020p)>"
      ]
     },
     "execution_count": 12,
     "metadata": {},
     "output_type": "execute_result"
    }
   ],
   "source": [
    "# appelle implicitement print(repr(b1)) qui appelle la methode __repr__ de b1\n",
    "b1"
   ]
  },
  {
   "cell_type": "code",
   "execution_count": 13,
   "metadata": {},
   "outputs": [
    {
     "data": {
      "text/plain": [
       "'BoiteLego<71043 - Le château de Poudlard (6020p)>'"
      ]
     },
     "execution_count": 13,
     "metadata": {},
     "output_type": "execute_result"
    }
   ],
   "source": [
    "repr(b1)"
   ]
  },
  {
   "cell_type": "code",
   "execution_count": 14,
   "metadata": {},
   "outputs": [
    {
     "name": "stdout",
     "output_type": "stream",
     "text": [
      "71043 - Le château de Poudlard (6020p)\n"
     ]
    }
   ],
   "source": [
    "# appelle implicitement print(str(b1)) qui appelle la methode __str__ de b1\n",
    "print(b1)"
   ]
  },
  {
   "cell_type": "code",
   "execution_count": 15,
   "metadata": {},
   "outputs": [
    {
     "data": {
      "text/plain": [
       "'71043 - Le château de Poudlard (6020p)'"
      ]
     },
     "execution_count": 15,
     "metadata": {},
     "output_type": "execute_result"
    }
   ],
   "source": [
    "str(b1)"
   ]
  },
  {
   "cell_type": "code",
   "execution_count": 16,
   "metadata": {
    "scrolled": true
   },
   "outputs": [
    {
     "name": "stdout",
     "output_type": "stream",
     "text": [
      "Mes boîtes de Lego :\n",
      ". 71043 - Le château de Poudlard (6020p)\n",
      ". 75810 - La maison dans le monde à l'envers (2287p)\n",
      ". 70839 - Le Rexcelsior (1826p)\n"
     ]
    }
   ],
   "source": [
    "print(\"Mes boîtes de Lego :\")\n",
    "for b in listeBoites:\n",
    "    print(\".\", b)"
   ]
  },
  {
   "cell_type": "markdown",
   "metadata": {},
   "source": [
    "### 3. Opérateurs"
   ]
  },
  {
   "cell_type": "markdown",
   "metadata": {},
   "source": [
    "#### 3.1 égalité (==, !=, \\_\\_eq__, \\_\\_ne__) et identité (is, is not, id)"
   ]
  },
  {
   "cell_type": "code",
   "execution_count": 17,
   "metadata": {},
   "outputs": [
    {
     "data": {
      "text/plain": [
       "(True, True, False, False)"
      ]
     },
     "execution_count": 17,
     "metadata": {},
     "output_type": "execute_result"
    }
   ],
   "source": [
    "# toujours vrai quelque soit la classe (si écrite correctement)\n",
    "# identique => égal (réflexivité)\n",
    "b1 == b1, b1 is b1, b1 != b1, b1 is not b1"
   ]
  },
  {
   "cell_type": "code",
   "execution_count": 18,
   "metadata": {},
   "outputs": [
    {
     "data": {
      "text/plain": [
       "(True, True, False, False, 1591652714816, 1591652714816)"
      ]
     },
     "execution_count": 18,
     "metadata": {},
     "output_type": "execute_result"
    }
   ],
   "source": [
    "# même chose en utilisant 2 références sur le même objet\n",
    "b1 == b5, b1 is b5, b1 != b5, b1 is not b5, id(b1), id(b5)"
   ]
  },
  {
   "cell_type": "code",
   "execution_count": 19,
   "metadata": {},
   "outputs": [
    {
     "data": {
      "text/plain": [
       "(True, False, False, True, 1591652714816, 1591652715040)"
      ]
     },
     "execution_count": 19,
     "metadata": {},
     "output_type": "execute_result"
    }
   ],
   "source": [
    "b1 == b4, b1 is b4, b1 != b4, b1 is not b4, id(b1), id(b4)"
   ]
  },
  {
   "cell_type": "code",
   "execution_count": 20,
   "metadata": {},
   "outputs": [
    {
     "data": {
      "text/plain": [
       "(False, False, True, True, 1591652714816, 1591652715152)"
      ]
     },
     "execution_count": 20,
     "metadata": {},
     "output_type": "execute_result"
    }
   ],
   "source": [
    "b1 == b2, b1 is b2, b1 != b2, b1 is not b2, id(b1), id(b2)"
   ]
  },
  {
   "cell_type": "code",
   "execution_count": 21,
   "metadata": {},
   "outputs": [
    {
     "data": {
      "text/plain": [
       "(False, False)"
      ]
     },
     "execution_count": 21,
     "metadata": {},
     "output_type": "execute_result"
    }
   ],
   "source": [
    "b1 == \"71043 - Le château de Poudlard (6020p)\", \\\n",
    "\"71043 - Le château de Poudlard (6020p)\" == b1"
   ]
  },
  {
   "cell_type": "code",
   "execution_count": 22,
   "metadata": {},
   "outputs": [
    {
     "data": {
      "text/plain": [
       "(True, True, False)"
      ]
     },
     "execution_count": 22,
     "metadata": {},
     "output_type": "execute_result"
    }
   ],
   "source": [
    "isinstance(b1, Boite), isinstance(b1, object), isinstance(b1, str)"
   ]
  },
  {
   "cell_type": "markdown",
   "metadata": {},
   "source": [
    "### 4. méthode(s) métier(s)"
   ]
  },
  {
   "cell_type": "code",
   "execution_count": 23,
   "metadata": {},
   "outputs": [
    {
     "data": {
      "text/plain": [
       "True"
      ]
     },
     "execution_count": 23,
     "metadata": {},
     "output_type": "execute_result"
    }
   ],
   "source": [
    "# 1 boîte est-elle nouvelle ?\n",
    "b3.estNouvelle()"
   ]
  },
  {
   "cell_type": "code",
   "execution_count": 24,
   "metadata": {},
   "outputs": [
    {
     "data": {
      "text/plain": [
       "[False, True, True]"
      ]
     },
     "execution_count": 24,
     "metadata": {},
     "output_type": "execute_result"
    }
   ],
   "source": [
    "# même question pour toutes les boîtes\n",
    "[ b.estNouvelle() for b in listeBoites ]"
   ]
  },
  {
   "cell_type": "code",
   "execution_count": 25,
   "metadata": {},
   "outputs": [
    {
     "data": {
      "text/plain": [
       "False"
      ]
     },
     "execution_count": 25,
     "metadata": {},
     "output_type": "execute_result"
    }
   ],
   "source": [
    "# toutes les boîtes sont-elles des nouveautés\n",
    "all(b.estNouvelle() for b in listeBoites)"
   ]
  },
  {
   "cell_type": "code",
   "execution_count": 26,
   "metadata": {},
   "outputs": [
    {
     "data": {
      "text/plain": [
       "True"
      ]
     },
     "execution_count": 26,
     "metadata": {},
     "output_type": "execute_result"
    }
   ],
   "source": [
    "# y a-t-il au moins une nouveauté parmi les boîtes\n",
    "any(b.estNouvelle() for b in listeBoites)"
   ]
  },
  {
   "cell_type": "code",
   "execution_count": 27,
   "metadata": {},
   "outputs": [
    {
     "name": "stdout",
     "output_type": "stream",
     "text": [
      "Mes boîtes de Lego :\n",
      ". 71043 - Le château de Poudlard (6020p)  :  trop vieux\n",
      ". 75810 - La maison dans le monde à l'envers (2287p)  :  NOUVEAU\n",
      ". 70839 - Le Rexcelsior (1826p)  :  NOUVEAU\n"
     ]
    }
   ],
   "source": [
    "# utilisation pour faire 1 retour vers l'utilisateur en mode catalogue\n",
    "print(\"Mes boîtes de Lego :\")\n",
    "for b in listeBoites:\n",
    "    print(\".\", b, \" : \", \"NOUVEAU\" if b.estNouvelle() else \"trop vieux\")"
   ]
  },
  {
   "cell_type": "markdown",
   "metadata": {},
   "source": [
    "### 5. Divers"
   ]
  },
  {
   "cell_type": "code",
   "execution_count": 29,
   "metadata": {},
   "outputs": [
    {
     "data": {
      "text/plain": [
       "BoiteLego<71043 - Le château de Poudlard (6020p)>"
      ]
     },
     "execution_count": 29,
     "metadata": {},
     "output_type": "execute_result"
    }
   ],
   "source": [
    "# Principe de la \"copie\" de niveau 1 (shallow)\n",
    "# NB : le module copy de python permet d'effectuer l'opération suivant\n",
    "# pour un object de n'inmporte quelle classe\n",
    "b6 = Boite(b1.numero, b1.nom, b1.nombrePiece, b1.annee)\n",
    "b6"
   ]
  }
 ],
 "metadata": {
  "kernelspec": {
   "display_name": "Python 3",
   "language": "python",
   "name": "python3"
  },
  "language_info": {
   "codemirror_mode": {
    "name": "ipython",
    "version": 3
   },
   "file_extension": ".py",
   "mimetype": "text/x-python",
   "name": "python",
   "nbconvert_exporter": "python",
   "pygments_lexer": "ipython3",
   "version": "3.7.1"
  }
 },
 "nbformat": 4,
 "nbformat_minor": 2
}
